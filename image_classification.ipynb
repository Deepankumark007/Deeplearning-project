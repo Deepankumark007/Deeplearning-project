{
  "nbformat": 4,
  "nbformat_minor": 0,
  "metadata": {
    "colab": {
      "provenance": [],
      "gpuType": "T4"
    },
    "kernelspec": {
      "name": "python3",
      "display_name": "Python 3"
    },
    "language_info": {
      "name": "python"
    },
    "accelerator": "GPU"
  },
  "cells": [
    {
      "cell_type": "code",
      "source": [
        "from google.colab import drive\n",
        "drive.mount('/content/drive')"
      ],
      "metadata": {
        "colab": {
          "base_uri": "https://localhost:8080/"
        },
        "id": "ikrjX-a9en-n",
        "outputId": "81e519e7-4722-47d8-8289-bb695692f89e"
      },
      "execution_count": 1,
      "outputs": [
        {
          "output_type": "stream",
          "name": "stdout",
          "text": [
            "Drive already mounted at /content/drive; to attempt to forcibly remount, call drive.mount(\"/content/drive\", force_remount=True).\n"
          ]
        }
      ]
    },
    {
      "cell_type": "code",
      "source": [
        "dataset = {\n",
        "             \"train_data\" : \"/content/drive/MyDrive/Colab Notebooks/archive/train\",\n",
        "             \"valid_data\" : \"/content/drive/MyDrive/Colab Notebooks/archive/valid\",\n",
        "             \"test_data\" : \"/content/drive/MyDrive/Colab Notebooks/archive/test\"\n",
        "          }\n",
        "import os\n",
        "import pandas as pd"
      ],
      "metadata": {
        "id": "sU7-D7cugzK3"
      },
      "execution_count": 2,
      "outputs": []
    },
    {
      "cell_type": "code",
      "source": [
        "from tensorflow.keras.preprocessing.image import ImageDataGenerator\n",
        "train_datagen=ImageDataGenerator(rescale=1.0/255,rotation_range=30,width_shift_range=10.0,height_shift_range=10.0,shear_range=10,zoom_range=0.1,vertical_flip=True)\n",
        "valid_datagen=ImageDataGenerator(rescale=1.0/255)\n",
        "test_datagen=ImageDataGenerator(rescale=1.0/255)\n",
        "\n",
        "train_ds=train_datagen.flow_from_directory(dataset['train_data'],target_size=(224,224),batch_size=10)\n",
        "valid_ds=valid_datagen.flow_from_directory(dataset['valid_data'],target_size=(224,224),batch_size=10)\n",
        "test_ds=test_datagen.flow_from_directory(dataset['test_data'],target_size=(224,224),batch_size=10)"
      ],
      "metadata": {
        "colab": {
          "base_uri": "https://localhost:8080/"
        },
        "id": "RgTwt7elYueh",
        "outputId": "4a09d710-60ac-4fa9-dff8-9fe18174e1b0"
      },
      "execution_count": null,
      "outputs": [
        {
          "output_type": "stream",
          "name": "stdout",
          "text": [
            "Found 489 images belonging to 3 classes.\n",
            "Found 15 images belonging to 3 classes.\n",
            "Found 15 images belonging to 3 classes.\n"
          ]
        }
      ]
    },
    {
      "cell_type": "code",
      "source": [
        "type(train_ds)"
      ],
      "metadata": {
        "colab": {
          "base_uri": "https://localhost:8080/"
        },
        "id": "VYQf3etvJgpX",
        "outputId": "c7b4fb7e-6c61-4302-cde3-efdbae3ecb88"
      },
      "execution_count": null,
      "outputs": [
        {
          "output_type": "execute_result",
          "data": {
            "text/plain": [
              "keras.preprocessing.image.DirectoryIterator"
            ]
          },
          "metadata": {},
          "execution_count": 13
        }
      ]
    },
    {
      "cell_type": "code",
      "source": [
        "import tensorflow as tf\n",
        "model=tf.keras.models.Sequential(\n",
        "    [\n",
        "        tf.keras.layers.Conv2D(128,(3,3),activation='relu',input_shape=(224,224,3)),\n",
        "        tf.keras.layers.MaxPooling2D(pool_size=(2,2)),\n",
        "        tf.keras.layers.Conv2D(64,(3,3),activation='relu',input_shape=(224,224,3)),\n",
        "        tf.keras.layers.MaxPooling2D(pool_size=(2,2)),\n",
        "        tf.keras.layers.Dropout(0.3),\n",
        "        tf.keras.layers.Conv2D(32,(3,3),activation='relu',input_shape=(224,224,3)),\n",
        "        tf.keras.layers.MaxPooling2D(pool_size=(2,2)),\n",
        "        tf.keras.layers.Flatten(),\n",
        "        tf.keras.layers.Dense(64,activation='relu'),\n",
        "        tf.keras.layers.Dropout(0.3),\n",
        "        tf.keras.layers.Dense(48,activation='relu'),\n",
        "        tf.keras.layers.Dropout(0.3),\n",
        "        tf.keras.layers.Dense(32,activation='relu'),\n",
        "        tf.keras.layers.Dropout(0.3),\n",
        "        tf.keras.layers.Dense(3,activation='softmax')\n",
        "    ]\n",
        ")\n",
        "model.compile(optimizer='adam',loss='categorical_crossentropy',metrics=['accuracy'])"
      ],
      "metadata": {
        "id": "H_QC02Axct8g"
      },
      "execution_count": null,
      "outputs": []
    },
    {
      "cell_type": "code",
      "source": [
        "model.fit(train_ds,validation_data=valid_ds,epochs=100,batch_size=20)"
      ],
      "metadata": {
        "colab": {
          "base_uri": "https://localhost:8080/"
        },
        "id": "TgV8QFkZhLEI",
        "outputId": "4d685b17-54b9-44af-d5dd-02a8c8036afd"
      },
      "execution_count": null,
      "outputs": [
        {
          "output_type": "stream",
          "name": "stdout",
          "text": [
            "Epoch 1/100\n",
            "49/49 [==============================] - 12s 196ms/step - loss: 1.1092 - accuracy: 0.3456 - val_loss: 1.0995 - val_accuracy: 0.3333\n",
            "Epoch 2/100\n",
            "49/49 [==============================] - 8s 165ms/step - loss: 1.0880 - accuracy: 0.3804 - val_loss: 1.0990 - val_accuracy: 0.3333\n",
            "Epoch 3/100\n",
            "49/49 [==============================] - 8s 155ms/step - loss: 1.0927 - accuracy: 0.3845 - val_loss: 1.0797 - val_accuracy: 0.4000\n",
            "Epoch 4/100\n",
            "49/49 [==============================] - 9s 188ms/step - loss: 1.0836 - accuracy: 0.3845 - val_loss: 1.0525 - val_accuracy: 0.3333\n",
            "Epoch 5/100\n",
            "49/49 [==============================] - 8s 165ms/step - loss: 1.0153 - accuracy: 0.4519 - val_loss: 1.0207 - val_accuracy: 0.5333\n",
            "Epoch 6/100\n",
            "49/49 [==============================] - 8s 157ms/step - loss: 0.9776 - accuracy: 0.4683 - val_loss: 0.9703 - val_accuracy: 0.5333\n",
            "Epoch 7/100\n",
            "49/49 [==============================] - 9s 191ms/step - loss: 0.9734 - accuracy: 0.4888 - val_loss: 0.9643 - val_accuracy: 0.4000\n",
            "Epoch 8/100\n",
            "49/49 [==============================] - 9s 177ms/step - loss: 0.9593 - accuracy: 0.4949 - val_loss: 0.9594 - val_accuracy: 0.4667\n",
            "Epoch 9/100\n",
            "49/49 [==============================] - 8s 156ms/step - loss: 0.9355 - accuracy: 0.4990 - val_loss: 0.9410 - val_accuracy: 0.5333\n",
            "Epoch 10/100\n",
            "49/49 [==============================] - 11s 234ms/step - loss: 0.9528 - accuracy: 0.5174 - val_loss: 0.9380 - val_accuracy: 0.6000\n",
            "Epoch 11/100\n",
            "49/49 [==============================] - 8s 166ms/step - loss: 0.9195 - accuracy: 0.5297 - val_loss: 0.8535 - val_accuracy: 0.7333\n",
            "Epoch 12/100\n",
            "49/49 [==============================] - 9s 182ms/step - loss: 0.9468 - accuracy: 0.5378 - val_loss: 0.9783 - val_accuracy: 0.5333\n",
            "Epoch 13/100\n",
            "49/49 [==============================] - 9s 187ms/step - loss: 0.9120 - accuracy: 0.5767 - val_loss: 0.9277 - val_accuracy: 0.5333\n",
            "Epoch 14/100\n",
            "49/49 [==============================] - 8s 155ms/step - loss: 0.8840 - accuracy: 0.5869 - val_loss: 0.9226 - val_accuracy: 0.4667\n",
            "Epoch 15/100\n",
            "49/49 [==============================] - 8s 156ms/step - loss: 0.8908 - accuracy: 0.5685 - val_loss: 0.8759 - val_accuracy: 0.6667\n",
            "Epoch 16/100\n",
            "49/49 [==============================] - 9s 188ms/step - loss: 0.8838 - accuracy: 0.5562 - val_loss: 0.8503 - val_accuracy: 0.6667\n",
            "Epoch 17/100\n",
            "49/49 [==============================] - 8s 165ms/step - loss: 0.8578 - accuracy: 0.5849 - val_loss: 0.8811 - val_accuracy: 0.6000\n",
            "Epoch 18/100\n",
            "49/49 [==============================] - 9s 178ms/step - loss: 0.8556 - accuracy: 0.5869 - val_loss: 0.7735 - val_accuracy: 0.6667\n",
            "Epoch 19/100\n",
            "49/49 [==============================] - 9s 186ms/step - loss: 0.8664 - accuracy: 0.5685 - val_loss: 0.9654 - val_accuracy: 0.4667\n",
            "Epoch 20/100\n",
            "49/49 [==============================] - 8s 155ms/step - loss: 0.8749 - accuracy: 0.5583 - val_loss: 0.8124 - val_accuracy: 0.6000\n",
            "Epoch 21/100\n",
            "49/49 [==============================] - 9s 189ms/step - loss: 0.7665 - accuracy: 0.6483 - val_loss: 0.7725 - val_accuracy: 0.7333\n",
            "Epoch 22/100\n",
            "49/49 [==============================] - 9s 177ms/step - loss: 0.7538 - accuracy: 0.6503 - val_loss: 0.8307 - val_accuracy: 0.6000\n",
            "Epoch 23/100\n",
            "49/49 [==============================] - 8s 153ms/step - loss: 0.8250 - accuracy: 0.6176 - val_loss: 0.7740 - val_accuracy: 0.7333\n",
            "Epoch 24/100\n",
            "49/49 [==============================] - 9s 191ms/step - loss: 0.7719 - accuracy: 0.6237 - val_loss: 0.7830 - val_accuracy: 0.6000\n",
            "Epoch 25/100\n",
            "49/49 [==============================] - 9s 182ms/step - loss: 0.7379 - accuracy: 0.6564 - val_loss: 0.8440 - val_accuracy: 0.6000\n",
            "Epoch 26/100\n",
            "49/49 [==============================] - 8s 170ms/step - loss: 0.7670 - accuracy: 0.6605 - val_loss: 0.7714 - val_accuracy: 0.7333\n",
            "Epoch 27/100\n",
            "49/49 [==============================] - 9s 192ms/step - loss: 0.7050 - accuracy: 0.6933 - val_loss: 0.8207 - val_accuracy: 0.6000\n",
            "Epoch 28/100\n",
            "49/49 [==============================] - 8s 155ms/step - loss: 0.7199 - accuracy: 0.6544 - val_loss: 0.8683 - val_accuracy: 0.6667\n",
            "Epoch 29/100\n",
            "49/49 [==============================] - 10s 195ms/step - loss: 0.7087 - accuracy: 0.6748 - val_loss: 0.7691 - val_accuracy: 0.6667\n",
            "Epoch 30/100\n",
            "49/49 [==============================] - 9s 190ms/step - loss: 0.6893 - accuracy: 0.6953 - val_loss: 0.7813 - val_accuracy: 0.7333\n",
            "Epoch 31/100\n",
            "49/49 [==============================] - 8s 157ms/step - loss: 0.6727 - accuracy: 0.6789 - val_loss: 0.8106 - val_accuracy: 0.6000\n",
            "Epoch 32/100\n",
            "49/49 [==============================] - 9s 191ms/step - loss: 0.6609 - accuracy: 0.7342 - val_loss: 0.8319 - val_accuracy: 0.7333\n",
            "Epoch 33/100\n",
            "49/49 [==============================] - 11s 220ms/step - loss: 0.6419 - accuracy: 0.7096 - val_loss: 0.7179 - val_accuracy: 0.7333\n",
            "Epoch 34/100\n",
            "49/49 [==============================] - 9s 190ms/step - loss: 0.6972 - accuracy: 0.6830 - val_loss: 0.7757 - val_accuracy: 0.6000\n",
            "Epoch 35/100\n",
            "49/49 [==============================] - 9s 179ms/step - loss: 0.7160 - accuracy: 0.6708 - val_loss: 0.8846 - val_accuracy: 0.6000\n",
            "Epoch 36/100\n",
            "49/49 [==============================] - 8s 154ms/step - loss: 0.6611 - accuracy: 0.7178 - val_loss: 1.0822 - val_accuracy: 0.4667\n",
            "Epoch 37/100\n",
            "49/49 [==============================] - 9s 189ms/step - loss: 0.7243 - accuracy: 0.6769 - val_loss: 0.8781 - val_accuracy: 0.6667\n",
            "Epoch 38/100\n",
            "49/49 [==============================] - 9s 178ms/step - loss: 0.6914 - accuracy: 0.6933 - val_loss: 0.7197 - val_accuracy: 0.6667\n",
            "Epoch 39/100\n",
            "49/49 [==============================] - 8s 161ms/step - loss: 0.6731 - accuracy: 0.6994 - val_loss: 0.8226 - val_accuracy: 0.7333\n",
            "Epoch 40/100\n",
            "49/49 [==============================] - 9s 190ms/step - loss: 0.6710 - accuracy: 0.7137 - val_loss: 0.8506 - val_accuracy: 0.7333\n",
            "Epoch 41/100\n",
            "49/49 [==============================] - 8s 162ms/step - loss: 0.6422 - accuracy: 0.7342 - val_loss: 0.8111 - val_accuracy: 0.6667\n",
            "Epoch 42/100\n",
            "49/49 [==============================] - 9s 176ms/step - loss: 0.6093 - accuracy: 0.7280 - val_loss: 0.8284 - val_accuracy: 0.4667\n",
            "Epoch 43/100\n",
            "49/49 [==============================] - 9s 188ms/step - loss: 0.6500 - accuracy: 0.7117 - val_loss: 0.7927 - val_accuracy: 0.7333\n",
            "Epoch 44/100\n",
            "49/49 [==============================] - 7s 151ms/step - loss: 0.6204 - accuracy: 0.7096 - val_loss: 0.9261 - val_accuracy: 0.5333\n",
            "Epoch 45/100\n",
            "49/49 [==============================] - 9s 186ms/step - loss: 0.5984 - accuracy: 0.7362 - val_loss: 0.6993 - val_accuracy: 0.7333\n",
            "Epoch 46/100\n",
            "49/49 [==============================] - 8s 170ms/step - loss: 0.6216 - accuracy: 0.7157 - val_loss: 0.8449 - val_accuracy: 0.6667\n",
            "Epoch 47/100\n",
            "49/49 [==============================] - 8s 152ms/step - loss: 0.6008 - accuracy: 0.7382 - val_loss: 0.7520 - val_accuracy: 0.8000\n",
            "Epoch 48/100\n",
            "49/49 [==============================] - 9s 186ms/step - loss: 0.5914 - accuracy: 0.7382 - val_loss: 0.6945 - val_accuracy: 0.6000\n",
            "Epoch 49/100\n",
            "49/49 [==============================] - 8s 168ms/step - loss: 0.6283 - accuracy: 0.7076 - val_loss: 1.0076 - val_accuracy: 0.6000\n",
            "Epoch 50/100\n",
            "49/49 [==============================] - 9s 171ms/step - loss: 0.6593 - accuracy: 0.7014 - val_loss: 0.7962 - val_accuracy: 0.6000\n",
            "Epoch 51/100\n",
            "49/49 [==============================] - 9s 187ms/step - loss: 0.5860 - accuracy: 0.7546 - val_loss: 0.8503 - val_accuracy: 0.7333\n",
            "Epoch 52/100\n",
            "49/49 [==============================] - 8s 156ms/step - loss: 0.5752 - accuracy: 0.7382 - val_loss: 0.9234 - val_accuracy: 0.8000\n",
            "Epoch 53/100\n",
            "49/49 [==============================] - 8s 154ms/step - loss: 0.5505 - accuracy: 0.7607 - val_loss: 0.7764 - val_accuracy: 0.7333\n",
            "Epoch 54/100\n",
            "49/49 [==============================] - 9s 189ms/step - loss: 0.5733 - accuracy: 0.7505 - val_loss: 0.7704 - val_accuracy: 0.6667\n",
            "Epoch 55/100\n",
            "49/49 [==============================] - 10s 193ms/step - loss: 0.5500 - accuracy: 0.7403 - val_loss: 1.0378 - val_accuracy: 0.6000\n",
            "Epoch 56/100\n",
            "49/49 [==============================] - 8s 157ms/step - loss: 0.5161 - accuracy: 0.7587 - val_loss: 1.2424 - val_accuracy: 0.7333\n",
            "Epoch 57/100\n",
            "49/49 [==============================] - 9s 189ms/step - loss: 0.5503 - accuracy: 0.7648 - val_loss: 0.8893 - val_accuracy: 0.7333\n",
            "Epoch 58/100\n",
            "49/49 [==============================] - 8s 168ms/step - loss: 0.5407 - accuracy: 0.7648 - val_loss: 0.8038 - val_accuracy: 0.7333\n",
            "Epoch 59/100\n",
            "49/49 [==============================] - 9s 172ms/step - loss: 0.5556 - accuracy: 0.7566 - val_loss: 0.9503 - val_accuracy: 0.8000\n",
            "Epoch 60/100\n",
            "49/49 [==============================] - 9s 186ms/step - loss: 0.4908 - accuracy: 0.7771 - val_loss: 0.8762 - val_accuracy: 0.7333\n",
            "Epoch 61/100\n",
            "49/49 [==============================] - 8s 153ms/step - loss: 0.5007 - accuracy: 0.8078 - val_loss: 0.8788 - val_accuracy: 0.6667\n",
            "Epoch 62/100\n",
            "49/49 [==============================] - 9s 186ms/step - loss: 0.5003 - accuracy: 0.7873 - val_loss: 0.7293 - val_accuracy: 0.7333\n",
            "Epoch 63/100\n",
            "49/49 [==============================] - 9s 187ms/step - loss: 0.5871 - accuracy: 0.7423 - val_loss: 0.8268 - val_accuracy: 0.6667\n",
            "Epoch 64/100\n",
            "49/49 [==============================] - 8s 156ms/step - loss: 0.4788 - accuracy: 0.7935 - val_loss: 0.7599 - val_accuracy: 0.7333\n",
            "Epoch 65/100\n",
            "49/49 [==============================] - 9s 186ms/step - loss: 0.5435 - accuracy: 0.7648 - val_loss: 0.9864 - val_accuracy: 0.7333\n",
            "Epoch 66/100\n",
            "49/49 [==============================] - 9s 185ms/step - loss: 0.4691 - accuracy: 0.7832 - val_loss: 0.8590 - val_accuracy: 0.5333\n",
            "Epoch 67/100\n",
            "49/49 [==============================] - 8s 154ms/step - loss: 0.5294 - accuracy: 0.7730 - val_loss: 0.9616 - val_accuracy: 0.7333\n",
            "Epoch 68/100\n",
            "49/49 [==============================] - 9s 188ms/step - loss: 0.5349 - accuracy: 0.7894 - val_loss: 1.2086 - val_accuracy: 0.6000\n",
            "Epoch 69/100\n",
            "49/49 [==============================] - 8s 172ms/step - loss: 0.6315 - accuracy: 0.7403 - val_loss: 0.9178 - val_accuracy: 0.6667\n",
            "Epoch 70/100\n",
            "49/49 [==============================] - 8s 154ms/step - loss: 0.5455 - accuracy: 0.7423 - val_loss: 0.8400 - val_accuracy: 0.7333\n",
            "Epoch 71/100\n",
            "49/49 [==============================] - 9s 177ms/step - loss: 0.5159 - accuracy: 0.7791 - val_loss: 0.8535 - val_accuracy: 0.8000\n",
            "Epoch 72/100\n",
            "49/49 [==============================] - 9s 188ms/step - loss: 0.5682 - accuracy: 0.7853 - val_loss: 0.8821 - val_accuracy: 0.6000\n",
            "Epoch 73/100\n",
            "49/49 [==============================] - 8s 168ms/step - loss: 0.5277 - accuracy: 0.7975 - val_loss: 0.9155 - val_accuracy: 0.5333\n",
            "Epoch 74/100\n",
            "49/49 [==============================] - 8s 155ms/step - loss: 0.5013 - accuracy: 0.7914 - val_loss: 1.3821 - val_accuracy: 0.6667\n",
            "Epoch 75/100\n",
            "49/49 [==============================] - 9s 187ms/step - loss: 0.4937 - accuracy: 0.7873 - val_loss: 0.7218 - val_accuracy: 0.6667\n",
            "Epoch 76/100\n",
            "49/49 [==============================] - 9s 179ms/step - loss: 0.4801 - accuracy: 0.7710 - val_loss: 1.2054 - val_accuracy: 0.6667\n",
            "Epoch 77/100\n",
            "49/49 [==============================] - 10s 197ms/step - loss: 0.4429 - accuracy: 0.8364 - val_loss: 1.1433 - val_accuracy: 0.6000\n",
            "Epoch 78/100\n",
            "49/49 [==============================] - 9s 186ms/step - loss: 0.5389 - accuracy: 0.7955 - val_loss: 0.8615 - val_accuracy: 0.6667\n",
            "Epoch 79/100\n",
            "49/49 [==============================] - 8s 167ms/step - loss: 0.4685 - accuracy: 0.7914 - val_loss: 1.0870 - val_accuracy: 0.6667\n",
            "Epoch 80/100\n",
            "49/49 [==============================] - 9s 171ms/step - loss: 0.5005 - accuracy: 0.7894 - val_loss: 0.9832 - val_accuracy: 0.7333\n",
            "Epoch 81/100\n",
            "49/49 [==============================] - 9s 186ms/step - loss: 0.4216 - accuracy: 0.8262 - val_loss: 1.2561 - val_accuracy: 0.4667\n",
            "Epoch 82/100\n",
            "49/49 [==============================] - 8s 154ms/step - loss: 0.4372 - accuracy: 0.8200 - val_loss: 0.9422 - val_accuracy: 0.8000\n",
            "Epoch 83/100\n",
            "49/49 [==============================] - 9s 185ms/step - loss: 0.4258 - accuracy: 0.8139 - val_loss: 0.7758 - val_accuracy: 0.8000\n",
            "Epoch 84/100\n",
            "49/49 [==============================] - 9s 180ms/step - loss: 0.4209 - accuracy: 0.8221 - val_loss: 1.1923 - val_accuracy: 0.8667\n",
            "Epoch 85/100\n",
            "49/49 [==============================] - 8s 152ms/step - loss: 0.4563 - accuracy: 0.8078 - val_loss: 1.6940 - val_accuracy: 0.6667\n",
            "Epoch 86/100\n",
            "49/49 [==============================] - 9s 186ms/step - loss: 0.4323 - accuracy: 0.8180 - val_loss: 1.6400 - val_accuracy: 0.6000\n",
            "Epoch 87/100\n",
            "49/49 [==============================] - 8s 159ms/step - loss: 0.4353 - accuracy: 0.8200 - val_loss: 1.1411 - val_accuracy: 0.6667\n",
            "Epoch 88/100\n",
            "49/49 [==============================] - 8s 155ms/step - loss: 0.6436 - accuracy: 0.7730 - val_loss: 1.3239 - val_accuracy: 0.4667\n",
            "Epoch 89/100\n",
            "49/49 [==============================] - 9s 186ms/step - loss: 0.5200 - accuracy: 0.8078 - val_loss: 0.8589 - val_accuracy: 0.8667\n",
            "Epoch 90/100\n",
            "49/49 [==============================] - 8s 162ms/step - loss: 0.4563 - accuracy: 0.8016 - val_loss: 0.6835 - val_accuracy: 0.7333\n",
            "Epoch 91/100\n",
            "49/49 [==============================] - 9s 178ms/step - loss: 0.4148 - accuracy: 0.8303 - val_loss: 0.8705 - val_accuracy: 0.8667\n",
            "Epoch 92/100\n",
            "49/49 [==============================] - 9s 188ms/step - loss: 0.4512 - accuracy: 0.8098 - val_loss: 0.6778 - val_accuracy: 0.7333\n",
            "Epoch 93/100\n",
            "49/49 [==============================] - 8s 154ms/step - loss: 0.4103 - accuracy: 0.8262 - val_loss: 0.9369 - val_accuracy: 0.7333\n",
            "Epoch 94/100\n",
            "49/49 [==============================] - 8s 170ms/step - loss: 0.4250 - accuracy: 0.8405 - val_loss: 0.8471 - val_accuracy: 0.7333\n",
            "Epoch 95/100\n",
            "49/49 [==============================] - 9s 186ms/step - loss: 0.4518 - accuracy: 0.8139 - val_loss: 0.9609 - val_accuracy: 0.7333\n",
            "Epoch 96/100\n",
            "49/49 [==============================] - 8s 153ms/step - loss: 0.4302 - accuracy: 0.8057 - val_loss: 1.3249 - val_accuracy: 0.8000\n",
            "Epoch 97/100\n",
            "49/49 [==============================] - 8s 156ms/step - loss: 0.4081 - accuracy: 0.8200 - val_loss: 1.2420 - val_accuracy: 0.6667\n",
            "Epoch 98/100\n",
            "49/49 [==============================] - 9s 186ms/step - loss: 0.4917 - accuracy: 0.8139 - val_loss: 0.9647 - val_accuracy: 0.7333\n",
            "Epoch 99/100\n",
            "49/49 [==============================] - 9s 174ms/step - loss: 0.3746 - accuracy: 0.8487 - val_loss: 1.0451 - val_accuracy: 0.8000\n",
            "Epoch 100/100\n",
            "49/49 [==============================] - 10s 195ms/step - loss: 0.3975 - accuracy: 0.8344 - val_loss: 1.0800 - val_accuracy: 0.7333\n"
          ]
        },
        {
          "output_type": "execute_result",
          "data": {
            "text/plain": [
              "<keras.callbacks.History at 0x7e8840093040>"
            ]
          },
          "metadata": {},
          "execution_count": 8
        }
      ]
    },
    {
      "cell_type": "code",
      "source": [
        "# serialize model to JSON\n",
        "#https://machinelearningmastery.com/save-load-keras-deep-learning-models/\n",
        "model_json = model.to_json()\n",
        "with open(\"model.json\", \"w\") as json_file:\n",
        "    json_file.write(model_json)\n",
        "# serialize weights to HDF5\n",
        "model.save_weights(\"model.h5\")\n",
        "print(\"Saved model to disk\")"
      ],
      "metadata": {
        "colab": {
          "base_uri": "https://localhost:8080/"
        },
        "id": "qTcGzgpHjG-K",
        "outputId": "2a23b41f-91a1-4701-b778-2b3b4405e092"
      },
      "execution_count": null,
      "outputs": [
        {
          "output_type": "stream",
          "name": "stdout",
          "text": [
            "Saved model to disk\n"
          ]
        }
      ]
    },
    {
      "cell_type": "code",
      "source": [
        "# load json and create model\n",
        "from tensorflow.keras.models import model_from_json\n",
        "json_file = open('model.json', 'r')\n",
        "loaded_model_json = json_file.read()\n",
        "json_file.close()\n",
        "loaded_model = model_from_json(loaded_model_json)\n",
        "# load weights into new model\n",
        "loaded_model.load_weights(\"model.h5\")\n",
        "print(\"Loaded model from disk\")"
      ],
      "metadata": {
        "colab": {
          "base_uri": "https://localhost:8080/"
        },
        "id": "csyBt7mfekKV",
        "outputId": "9da07e3d-468b-462b-b625-8cf0738a8b70"
      },
      "execution_count": null,
      "outputs": [
        {
          "output_type": "stream",
          "name": "stdout",
          "text": [
            "Loaded model from disk\n"
          ]
        }
      ]
    },
    {
      "cell_type": "code",
      "source": [
        "model_out = model.predict(test_ds)"
      ],
      "metadata": {
        "colab": {
          "base_uri": "https://localhost:8080/"
        },
        "id": "Jrvtk92mlc81",
        "outputId": "1a4ff7f4-ba50-49f3-f258-46de06990da7"
      },
      "execution_count": null,
      "outputs": [
        {
          "output_type": "stream",
          "name": "stdout",
          "text": [
            "2/2 [==============================] - 2s 1s/step\n"
          ]
        }
      ]
    },
    {
      "cell_type": "code",
      "source": [
        "model_out"
      ],
      "metadata": {
        "colab": {
          "base_uri": "https://localhost:8080/"
        },
        "id": "0sT3rCWRNnHN",
        "outputId": "e796ba84-306f-43e5-914b-573f3ca83cd2"
      },
      "execution_count": null,
      "outputs": [
        {
          "output_type": "execute_result",
          "data": {
            "text/plain": [
              "array([[9.9731028e-01, 1.8752086e-06, 2.6878628e-03],\n",
              "       [9.8966366e-01, 1.8702433e-07, 1.0336068e-02],\n",
              "       [5.7094824e-02, 3.3267531e-01, 6.1022985e-01],\n",
              "       [9.9902487e-01, 1.9736161e-08, 9.7518793e-04],\n",
              "       [5.1246719e-03, 2.5585300e-04, 9.9461949e-01],\n",
              "       [9.9998486e-01, 1.3902085e-13, 1.5086112e-05],\n",
              "       [7.5728334e-02, 6.1874115e-01, 3.0553055e-01],\n",
              "       [6.1106075e-02, 2.9893516e-02, 9.0900034e-01],\n",
              "       [7.5890100e-01, 2.1289112e-03, 2.3897007e-01],\n",
              "       [1.4004753e-03, 8.3928531e-01, 1.5931420e-01],\n",
              "       [3.7388831e-02, 4.1165534e-02, 9.2144567e-01],\n",
              "       [4.7390438e-03, 9.0964341e-01, 8.5617557e-02],\n",
              "       [8.0218382e-02, 4.8816991e-01, 4.3161175e-01],\n",
              "       [8.2784193e-03, 3.9773440e-01, 5.9398723e-01],\n",
              "       [3.6584216e-03, 2.3638494e-03, 9.9397767e-01]], dtype=float32)"
            ]
          },
          "metadata": {},
          "execution_count": 10
        }
      ]
    },
    {
      "cell_type": "code",
      "source": [
        "y_pred_labels = np.argmax(model_out, axis=1)"
      ],
      "metadata": {
        "id": "8iHDoPtFcPn5"
      },
      "execution_count": null,
      "outputs": []
    },
    {
      "cell_type": "code",
      "source": [
        "accuracy = accuracy_score(y_test_labels, y_pred_labels)\n",
        "confusion_mat = confusion_matrix(y_test_labels, y_pred_labels)\n",
        "\n",
        "print(\"Accuracy:\", accuracy)\n",
        "print(\"Confusion Matrix:\")\n",
        "print(confusion_mat.numpy())\n",
        "\n",
        "plt.plot(history.history['loss'])\n",
        "plt.title('Model Convergence')\n",
        "plt.xlabel('Epochs')\n",
        "plt.ylabel('Loss')\n",
        "plt.show()"
      ],
      "metadata": {
        "id": "2PDC_b8Yc3yz"
      },
      "execution_count": null,
      "outputs": []
    },
    {
      "cell_type": "code",
      "source": [
        "# dv in deep learning\n",
        "# https://www.pluralsight.com/guides/data-visualization-deep-learning-model-using-matplotlib"
      ],
      "metadata": {
        "id": "B7wJEdl7II11"
      },
      "execution_count": null,
      "outputs": []
    },
    {
      "cell_type": "code",
      "source": [
        "loaded_model.compile(optimizer='adam',loss='categorical_crossentropy',metrics=['accuracy'])\n",
        "score = loaded_model.evaluate(test_ds, verbose=0)\n",
        "print(\"%s: %.2f%%\" % (loaded_model.metrics_names[1], score[1]*100))"
      ],
      "metadata": {
        "colab": {
          "base_uri": "https://localhost:8080/"
        },
        "id": "Xx_qGerpjnSD",
        "outputId": "2cb1127e-fa6a-4da4-9ca2-e7cbad024d44"
      },
      "execution_count": null,
      "outputs": [
        {
          "output_type": "stream",
          "name": "stdout",
          "text": [
            "accuracy: 73.33%\n"
          ]
        }
      ]
    },
    {
      "cell_type": "code",
      "source": [
        "import matplotlib.pyplot as plt\n"
      ],
      "metadata": {
        "id": "YUUgnuH8bszL"
      },
      "execution_count": null,
      "outputs": []
    },
    {
      "cell_type": "code",
      "source": [
        "#hyper-parameter tunning\n",
        "def customizable_model(train_data,valid_data,test_data,act='relu',drop_rate=0.3,epochs=20,l_rate=0.001):\n",
        "  import tensorflow as tf\n",
        "  model=tf.keras.models.Sequential(\n",
        "      [\n",
        "          tf.keras.layers.Conv2D(128,(3,3),activation='relu',input_shape=(224,224,3)),\n",
        "          tf.keras.layers.MaxPooling2D(pool_size=(2,2)),\n",
        "          tf.keras.layers.Conv2D(64,(3,3),activation=act),\n",
        "          tf.keras.layers.MaxPooling2D(pool_size=(2,2)),\n",
        "          tf.keras.layers.Dropout(drop_rate),\n",
        "          tf.keras.layers.Conv2D(32,(3,3),activation=act),\n",
        "          tf.keras.layers.MaxPooling2D(pool_size=(2,2)),\n",
        "          tf.keras.layers.Flatten(),\n",
        "          tf.keras.layers.Dense(64,activation=act),\n",
        "          tf.keras.layers.Dropout(drop_rate),\n",
        "          tf.keras.layers.Dense(48,activation=act),\n",
        "          tf.keras.layers.Dropout(drop_rate),\n",
        "          tf.keras.layers.Dense(32,activation=act),\n",
        "          tf.keras.layers.Dropout(drop_rate),\n",
        "          tf.keras.layers.Dense(3,activation='softmax')\n",
        "      ]\n",
        "  )\n",
        "  model.compile(optimizer=tf.keras.optimizers.Adam(\n",
        "    learning_rate=l_rate),loss='categorical_crossentropy',metrics=['accuracy'])\n",
        "  history=model.fit(train_data,validation_data=valid_data,epochs=epochs,batch_size=20)\n",
        "\n",
        "  model_json = model.to_json()\n",
        "  with open(\"model.json\", \"w\") as json_file:\n",
        "      json_file.write(model_json)\n",
        "  # serialize weights to HDF5\n",
        "  model.save_weights(\"model.h5\")\n",
        "  print(\"Saved model to disk\")\n",
        "\n",
        "  return history"
      ],
      "metadata": {
        "id": "D3NFW6srInmL"
      },
      "execution_count": null,
      "outputs": []
    },
    {
      "cell_type": "code",
      "source": [
        "# https://www.gradio.app/docs/interface"
      ],
      "metadata": {
        "id": "F_7vAplQV-lH"
      },
      "execution_count": null,
      "outputs": []
    }
  ]
}